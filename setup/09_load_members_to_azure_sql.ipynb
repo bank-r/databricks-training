{
 "cells": [
  {
   "cell_type": "code",
   "execution_count": null,
   "id": "12e7e833",
   "metadata": {},
   "outputs": [],
   "source": [
    "import pandas as pd, urllib.parse\n",
    "from sqlalchemy import create_engine, text, types as T\n",
    "import pyodbc\n",
    "import sys\n",
    "from pathlib import Path\n",
    "from getpass import getpass\n",
    "\n",
    "REPO_ROOT = (Path.cwd() / \"..\").resolve()\n",
    "if str(REPO_ROOT) not in sys.path:\n",
    "    sys.path.insert(0, str(REPO_ROOT))\n",
    "\n",
    "from functions.utils import pick_sql_driver"
   ]
  },
  {
   "cell_type": "code",
   "execution_count": null,
   "id": "d62c4897",
   "metadata": {},
   "outputs": [],
   "source": [
    "csv_path = r\"../data/members.csv\"\n",
    "df = pd.read_csv(csv_path)\n",
    "df"
   ]
  },
  {
   "cell_type": "code",
   "execution_count": null,
   "id": "5d1df2ae",
   "metadata": {},
   "outputs": [],
   "source": [
    "driver = pick_sql_driver()\n",
    "table = \"members\"\n",
    "pwd = getpass(\"Azure SQL password: \")\n",
    "\n",
    "odbc = (\n",
    "    f\"Driver={{{driver}}};\"\n",
    "    f\"Server=tcp:sql-medisure-dev.database.windows.net,1433;\"\n",
    "    f\"Database=db_medisure_dev;\"\n",
    "    f\"Uid=sqladmin;\"\n",
    "    f\"Pwd={pwd};\"\n",
    "    f\"Encrypt=yes;\"\n",
    "    f\"TrustServerCertificate=yes;\"\n",
    "    f\"Connection Timeout=30;\"\n",
    ")\n",
    "\n",
    "engine = create_engine(\n",
    "    f\"mssql+pyodbc:///?odbc_connect={urllib.parse.quote_plus(odbc)}\",\n",
    "    fast_executemany=True,\n",
    ")"
   ]
  },
  {
   "cell_type": "code",
   "execution_count": null,
   "id": "26e6a1e6",
   "metadata": {},
   "outputs": [],
   "source": [
    "df.to_sql(\n",
    "    name=\"members\",\n",
    "    con=engine,\n",
    "    schema=\"dbo\",\n",
    "    if_exists=\"replace\",\n",
    "    index=False,\n",
    ")"
   ]
  }
 ],
 "metadata": {
  "kernelspec": {
   "display_name": "azure-databricks-training-py3.12",
   "language": "python",
   "name": "python3"
  },
  "language_info": {
   "codemirror_mode": {
    "name": "ipython",
    "version": 3
   },
   "file_extension": ".py",
   "mimetype": "text/x-python",
   "name": "python",
   "nbconvert_exporter": "python",
   "pygments_lexer": "ipython3",
   "version": "3.12.4"
  }
 },
 "nbformat": 4,
 "nbformat_minor": 5
}
